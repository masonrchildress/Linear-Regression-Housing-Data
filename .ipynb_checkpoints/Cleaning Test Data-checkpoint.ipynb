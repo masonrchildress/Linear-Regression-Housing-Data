{
 "cells": [
  {
   "cell_type": "code",
   "execution_count": 1,
   "metadata": {},
   "outputs": [],
   "source": [
    "import pandas as pd\n",
    "import numpy as np"
   ]
  },
  {
   "cell_type": "code",
   "execution_count": 2,
   "metadata": {},
   "outputs": [],
   "source": [
    "df = pd.read_csv('./datasets/test.csv')"
   ]
  },
  {
   "cell_type": "code",
   "execution_count": 3,
   "metadata": {
    "scrolled": true
   },
   "outputs": [
    {
     "data": {
      "text/plain": [
       "Id                  int64\n",
       "PID                 int64\n",
       "MS SubClass         int64\n",
       "MS Zoning          object\n",
       "Lot Frontage      float64\n",
       "Lot Area            int64\n",
       "Street             object\n",
       "Alley              object\n",
       "Lot Shape          object\n",
       "Land Contour       object\n",
       "Utilities          object\n",
       "Lot Config         object\n",
       "Land Slope         object\n",
       "Neighborhood       object\n",
       "Condition 1        object\n",
       "Condition 2        object\n",
       "Bldg Type          object\n",
       "House Style        object\n",
       "Overall Qual        int64\n",
       "Overall Cond        int64\n",
       "Year Built          int64\n",
       "Year Remod/Add      int64\n",
       "Roof Style         object\n",
       "Roof Matl          object\n",
       "Exterior 1st       object\n",
       "Exterior 2nd       object\n",
       "Mas Vnr Type       object\n",
       "Mas Vnr Area      float64\n",
       "Exter Qual         object\n",
       "Exter Cond         object\n",
       "                   ...   \n",
       "Full Bath           int64\n",
       "Half Bath           int64\n",
       "Bedroom AbvGr       int64\n",
       "Kitchen AbvGr       int64\n",
       "Kitchen Qual       object\n",
       "TotRms AbvGrd       int64\n",
       "Functional         object\n",
       "Fireplaces          int64\n",
       "Fireplace Qu       object\n",
       "Garage Type        object\n",
       "Garage Yr Blt     float64\n",
       "Garage Finish      object\n",
       "Garage Cars         int64\n",
       "Garage Area         int64\n",
       "Garage Qual        object\n",
       "Garage Cond        object\n",
       "Paved Drive        object\n",
       "Wood Deck SF        int64\n",
       "Open Porch SF       int64\n",
       "Enclosed Porch      int64\n",
       "3Ssn Porch          int64\n",
       "Screen Porch        int64\n",
       "Pool Area           int64\n",
       "Pool QC            object\n",
       "Fence              object\n",
       "Misc Feature       object\n",
       "Misc Val            int64\n",
       "Mo Sold             int64\n",
       "Yr Sold             int64\n",
       "Sale Type          object\n",
       "Length: 80, dtype: object"
      ]
     },
     "execution_count": 3,
     "metadata": {},
     "output_type": "execute_result"
    }
   ],
   "source": [
    "# Checking for incorrect data types\n",
    "df.dtypes"
   ]
  },
  {
   "cell_type": "code",
   "execution_count": 4,
   "metadata": {},
   "outputs": [
    {
     "data": {
      "text/plain": [
       "(879, 80)"
      ]
     },
     "execution_count": 4,
     "metadata": {},
     "output_type": "execute_result"
    }
   ],
   "source": [
    "df.shape"
   ]
  },
  {
   "cell_type": "code",
   "execution_count": 5,
   "metadata": {},
   "outputs": [
    {
     "data": {
      "text/plain": [
       "Sale Type           0\n",
       "Year Built          0\n",
       "Year Remod/Add      0\n",
       "Roof Style          0\n",
       "Roof Matl           0\n",
       "Exterior 1st        0\n",
       "Exterior 2nd        0\n",
       "Foundation          0\n",
       "Exter Cond          0\n",
       "Exter Qual          0\n",
       "Overall Cond        0\n",
       "Electrical          1\n",
       "Mas Vnr Type        1\n",
       "Mas Vnr Area        1\n",
       "Bsmt Cond          25\n",
       "BsmtFin Type 2     25\n",
       "Bsmt Qual          25\n",
       "BsmtFin Type 1     25\n",
       "Bsmt Exposure      25\n",
       "Garage Type        44\n",
       "Garage Finish      45\n",
       "Garage Yr Blt      45\n",
       "Garage Qual        45\n",
       "Garage Cond        45\n",
       "Lot Frontage      160\n",
       "Fireplace Qu      422\n",
       "Fence             707\n",
       "Alley             821\n",
       "Misc Feature      838\n",
       "Pool QC           875\n",
       "dtype: int64"
      ]
     },
     "execution_count": 5,
     "metadata": {},
     "output_type": "execute_result"
    }
   ],
   "source": [
    "# Checking for nulls\n",
    "df.isnull().sum().sort_values().tail(30)"
   ]
  },
  {
   "cell_type": "code",
   "execution_count": 6,
   "metadata": {},
   "outputs": [
    {
     "data": {
      "text/html": [
       "<div>\n",
       "<style scoped>\n",
       "    .dataframe tbody tr th:only-of-type {\n",
       "        vertical-align: middle;\n",
       "    }\n",
       "\n",
       "    .dataframe tbody tr th {\n",
       "        vertical-align: top;\n",
       "    }\n",
       "\n",
       "    .dataframe thead th {\n",
       "        text-align: right;\n",
       "    }\n",
       "</style>\n",
       "<table border=\"1\" class=\"dataframe\">\n",
       "  <thead>\n",
       "    <tr style=\"text-align: right;\">\n",
       "      <th></th>\n",
       "      <th>Id</th>\n",
       "      <th>PID</th>\n",
       "      <th>MS SubClass</th>\n",
       "      <th>MS Zoning</th>\n",
       "      <th>Lot Frontage</th>\n",
       "      <th>Lot Area</th>\n",
       "      <th>Street</th>\n",
       "      <th>Alley</th>\n",
       "      <th>Lot Shape</th>\n",
       "      <th>Land Contour</th>\n",
       "      <th>...</th>\n",
       "      <th>3Ssn Porch</th>\n",
       "      <th>Screen Porch</th>\n",
       "      <th>Pool Area</th>\n",
       "      <th>Pool QC</th>\n",
       "      <th>Fence</th>\n",
       "      <th>Misc Feature</th>\n",
       "      <th>Misc Val</th>\n",
       "      <th>Mo Sold</th>\n",
       "      <th>Yr Sold</th>\n",
       "      <th>Sale Type</th>\n",
       "    </tr>\n",
       "  </thead>\n",
       "  <tbody>\n",
       "    <tr>\n",
       "      <th>1</th>\n",
       "      <td>2718</td>\n",
       "      <td>905108090</td>\n",
       "      <td>90</td>\n",
       "      <td>RL</td>\n",
       "      <td>NaN</td>\n",
       "      <td>9662</td>\n",
       "      <td>Pave</td>\n",
       "      <td>NaN</td>\n",
       "      <td>IR1</td>\n",
       "      <td>Lvl</td>\n",
       "      <td>...</td>\n",
       "      <td>0</td>\n",
       "      <td>0</td>\n",
       "      <td>0</td>\n",
       "      <td>NaN</td>\n",
       "      <td>NaN</td>\n",
       "      <td>NaN</td>\n",
       "      <td>0</td>\n",
       "      <td>8</td>\n",
       "      <td>2006</td>\n",
       "      <td>WD</td>\n",
       "    </tr>\n",
       "    <tr>\n",
       "      <th>4</th>\n",
       "      <td>625</td>\n",
       "      <td>535105100</td>\n",
       "      <td>20</td>\n",
       "      <td>RL</td>\n",
       "      <td>NaN</td>\n",
       "      <td>9500</td>\n",
       "      <td>Pave</td>\n",
       "      <td>NaN</td>\n",
       "      <td>IR1</td>\n",
       "      <td>Lvl</td>\n",
       "      <td>...</td>\n",
       "      <td>0</td>\n",
       "      <td>185</td>\n",
       "      <td>0</td>\n",
       "      <td>NaN</td>\n",
       "      <td>NaN</td>\n",
       "      <td>NaN</td>\n",
       "      <td>0</td>\n",
       "      <td>7</td>\n",
       "      <td>2009</td>\n",
       "      <td>WD</td>\n",
       "    </tr>\n",
       "    <tr>\n",
       "      <th>7</th>\n",
       "      <td>858</td>\n",
       "      <td>907202130</td>\n",
       "      <td>20</td>\n",
       "      <td>RL</td>\n",
       "      <td>NaN</td>\n",
       "      <td>9286</td>\n",
       "      <td>Pave</td>\n",
       "      <td>NaN</td>\n",
       "      <td>IR1</td>\n",
       "      <td>Lvl</td>\n",
       "      <td>...</td>\n",
       "      <td>0</td>\n",
       "      <td>0</td>\n",
       "      <td>0</td>\n",
       "      <td>NaN</td>\n",
       "      <td>NaN</td>\n",
       "      <td>NaN</td>\n",
       "      <td>0</td>\n",
       "      <td>10</td>\n",
       "      <td>2009</td>\n",
       "      <td>WD</td>\n",
       "    </tr>\n",
       "    <tr>\n",
       "      <th>13</th>\n",
       "      <td>818</td>\n",
       "      <td>906230030</td>\n",
       "      <td>90</td>\n",
       "      <td>RL</td>\n",
       "      <td>NaN</td>\n",
       "      <td>7976</td>\n",
       "      <td>Pave</td>\n",
       "      <td>NaN</td>\n",
       "      <td>Reg</td>\n",
       "      <td>Lvl</td>\n",
       "      <td>...</td>\n",
       "      <td>0</td>\n",
       "      <td>0</td>\n",
       "      <td>0</td>\n",
       "      <td>NaN</td>\n",
       "      <td>NaN</td>\n",
       "      <td>NaN</td>\n",
       "      <td>0</td>\n",
       "      <td>10</td>\n",
       "      <td>2009</td>\n",
       "      <td>WD</td>\n",
       "    </tr>\n",
       "    <tr>\n",
       "      <th>20</th>\n",
       "      <td>222</td>\n",
       "      <td>905105070</td>\n",
       "      <td>20</td>\n",
       "      <td>RL</td>\n",
       "      <td>NaN</td>\n",
       "      <td>8246</td>\n",
       "      <td>Pave</td>\n",
       "      <td>NaN</td>\n",
       "      <td>IR1</td>\n",
       "      <td>Lvl</td>\n",
       "      <td>...</td>\n",
       "      <td>0</td>\n",
       "      <td>0</td>\n",
       "      <td>0</td>\n",
       "      <td>NaN</td>\n",
       "      <td>MnPrv</td>\n",
       "      <td>NaN</td>\n",
       "      <td>0</td>\n",
       "      <td>5</td>\n",
       "      <td>2010</td>\n",
       "      <td>WD</td>\n",
       "    </tr>\n",
       "  </tbody>\n",
       "</table>\n",
       "<p>5 rows × 80 columns</p>\n",
       "</div>"
      ],
      "text/plain": [
       "      Id        PID  MS SubClass MS Zoning  Lot Frontage  Lot Area Street  \\\n",
       "1   2718  905108090           90        RL           NaN      9662   Pave   \n",
       "4    625  535105100           20        RL           NaN      9500   Pave   \n",
       "7    858  907202130           20        RL           NaN      9286   Pave   \n",
       "13   818  906230030           90        RL           NaN      7976   Pave   \n",
       "20   222  905105070           20        RL           NaN      8246   Pave   \n",
       "\n",
       "   Alley Lot Shape Land Contour    ...     3Ssn Porch Screen Porch Pool Area  \\\n",
       "1    NaN       IR1          Lvl    ...              0            0         0   \n",
       "4    NaN       IR1          Lvl    ...              0          185         0   \n",
       "7    NaN       IR1          Lvl    ...              0            0         0   \n",
       "13   NaN       Reg          Lvl    ...              0            0         0   \n",
       "20   NaN       IR1          Lvl    ...              0            0         0   \n",
       "\n",
       "   Pool QC  Fence Misc Feature Misc Val Mo Sold  Yr Sold  Sale Type  \n",
       "1      NaN    NaN          NaN        0       8     2006        WD   \n",
       "4      NaN    NaN          NaN        0       7     2009        WD   \n",
       "7      NaN    NaN          NaN        0      10     2009        WD   \n",
       "13     NaN    NaN          NaN        0      10     2009        WD   \n",
       "20     NaN  MnPrv          NaN        0       5     2010        WD   \n",
       "\n",
       "[5 rows x 80 columns]"
      ]
     },
     "execution_count": 6,
     "metadata": {},
     "output_type": "execute_result"
    }
   ],
   "source": [
    "# Looking at NaN values for Lot Frontage\n",
    "df[df['Lot Frontage'].isnull()].head()"
   ]
  },
  {
   "cell_type": "code",
   "execution_count": 7,
   "metadata": {},
   "outputs": [],
   "source": [
    "# Replacing NaNs with 0's for Lot Frontage\n",
    "df['Lot Frontage'].fillna(0, inplace=True)"
   ]
  },
  {
   "cell_type": "code",
   "execution_count": 8,
   "metadata": {},
   "outputs": [
    {
     "data": {
      "text/plain": [
       "Series([], Name: Bsmt Cond, dtype: object)"
      ]
     },
     "execution_count": 8,
     "metadata": {},
     "output_type": "execute_result"
    }
   ],
   "source": [
    "# Checking if NaN for full bath correspond with having a basement\n",
    "df[df['Bsmt Full Bath'].isnull()]['Bsmt Cond'].head()"
   ]
  },
  {
   "cell_type": "code",
   "execution_count": 9,
   "metadata": {},
   "outputs": [],
   "source": [
    "# Replacing NaNs with 0's for Bsmt Full Bath\n",
    "df['Bsmt Full Bath'].fillna(0, inplace=True)"
   ]
  },
  {
   "cell_type": "code",
   "execution_count": 10,
   "metadata": {},
   "outputs": [
    {
     "data": {
      "text/plain": [
       "Series([], Name: Bsmt Cond, dtype: object)"
      ]
     },
     "execution_count": 10,
     "metadata": {},
     "output_type": "execute_result"
    }
   ],
   "source": [
    "# Checking if NaN for half bath correspond with having a basement\n",
    "df[df['Bsmt Half Bath'].isnull()]['Bsmt Cond'].head()"
   ]
  },
  {
   "cell_type": "code",
   "execution_count": 11,
   "metadata": {},
   "outputs": [],
   "source": [
    "# Replacing NaNs with 0's for Bsmt Half Bath\n",
    "df['Bsmt Half Bath'].fillna(0, inplace=True)"
   ]
  },
  {
   "cell_type": "code",
   "execution_count": 12,
   "metadata": {},
   "outputs": [
    {
     "data": {
      "text/plain": [
       "Series([], Name: Bsmt Cond, dtype: object)"
      ]
     },
     "execution_count": 12,
     "metadata": {},
     "output_type": "execute_result"
    }
   ],
   "source": [
    "# Checking if NaN for Bsmt Unf SF correspond with having a basement\n",
    "df[df['Bsmt Unf SF'].isnull()]['Bsmt Cond'].head()"
   ]
  },
  {
   "cell_type": "code",
   "execution_count": 13,
   "metadata": {},
   "outputs": [],
   "source": [
    "# Replacing NaNs with 0's for Bsmt Unf SF\n",
    "df['Bsmt Unf SF'].fillna(0, inplace=True)"
   ]
  },
  {
   "cell_type": "code",
   "execution_count": 14,
   "metadata": {},
   "outputs": [
    {
     "data": {
      "text/plain": [
       "Series([], Name: Bsmt Cond, dtype: object)"
      ]
     },
     "execution_count": 14,
     "metadata": {},
     "output_type": "execute_result"
    }
   ],
   "source": [
    "# Checking if NaN for Bsmt SF 1 correspond with having a basement\n",
    "df[df['BsmtFin SF 1'].isnull()]['Bsmt Cond'].head()"
   ]
  },
  {
   "cell_type": "code",
   "execution_count": 15,
   "metadata": {},
   "outputs": [],
   "source": [
    "# Replacing NaNs with 0's for Bsmt SF 1\n",
    "df['BsmtFin SF 1'].fillna(0, inplace=True)"
   ]
  },
  {
   "cell_type": "code",
   "execution_count": 16,
   "metadata": {},
   "outputs": [
    {
     "data": {
      "text/plain": [
       "Series([], Name: Bsmt Cond, dtype: object)"
      ]
     },
     "execution_count": 16,
     "metadata": {},
     "output_type": "execute_result"
    }
   ],
   "source": [
    "# Checking if NaN for Bsmt SF 2 correspond with having a basement\n",
    "df[df['BsmtFin SF 2'].isnull()]['Bsmt Cond'].head()"
   ]
  },
  {
   "cell_type": "code",
   "execution_count": 17,
   "metadata": {},
   "outputs": [],
   "source": [
    "# Replacing NaNs with 0's for Bsmt SF 2\n",
    "df['BsmtFin SF 2'].fillna(0, inplace=True)"
   ]
  },
  {
   "cell_type": "code",
   "execution_count": 18,
   "metadata": {},
   "outputs": [
    {
     "data": {
      "text/plain": [
       "15     NaN\n",
       "37     NaN\n",
       "77     NaN\n",
       "79     NaN\n",
       "113    NaN\n",
       "Name: Bsmt Cond, dtype: object"
      ]
     },
     "execution_count": 18,
     "metadata": {},
     "output_type": "execute_result"
    }
   ],
   "source": [
    "# Checking if NaN for BsmtFin Type 1 correspond with having a basement\n",
    "df[df['BsmtFin Type 1'].isnull()]['Bsmt Cond'].head()"
   ]
  },
  {
   "cell_type": "code",
   "execution_count": 19,
   "metadata": {},
   "outputs": [],
   "source": [
    "# Replacing NaNs with None for BsmtFin Type 1\n",
    "df['BsmtFin Type 1'].fillna('None', inplace=True)"
   ]
  },
  {
   "cell_type": "code",
   "execution_count": 20,
   "metadata": {},
   "outputs": [
    {
     "data": {
      "text/plain": [
       "15     NaN\n",
       "37     NaN\n",
       "77     NaN\n",
       "79     NaN\n",
       "113    NaN\n",
       "Name: Bsmt Cond, dtype: object"
      ]
     },
     "execution_count": 20,
     "metadata": {},
     "output_type": "execute_result"
    }
   ],
   "source": [
    "# Checking if NaN for BsmtFin Type 2 correspond with having a basement\n",
    "df[df['BsmtFin Type 2'].isnull()]['Bsmt Cond'].head()"
   ]
  },
  {
   "cell_type": "code",
   "execution_count": 21,
   "metadata": {},
   "outputs": [],
   "source": [
    "# Replacing NaNs with NA for BsmtFin Type 2\n",
    "df['BsmtFin Type 2'].fillna('None', inplace=True)"
   ]
  },
  {
   "cell_type": "code",
   "execution_count": 22,
   "metadata": {},
   "outputs": [
    {
     "data": {
      "text/plain": [
       "Series([], Name: Bsmt Cond, dtype: object)"
      ]
     },
     "execution_count": 22,
     "metadata": {},
     "output_type": "execute_result"
    }
   ],
   "source": [
    "# Checking if NaN for Total Bsmt SF correspond with having a basement\n",
    "df[df['Total Bsmt SF'].isnull()]['Bsmt Cond'].head()"
   ]
  },
  {
   "cell_type": "code",
   "execution_count": 23,
   "metadata": {},
   "outputs": [],
   "source": [
    "# Replacing NaNs with 0's for Total Bsmt SF\n",
    "df['Total Bsmt SF'].fillna(0, inplace=True)"
   ]
  },
  {
   "cell_type": "code",
   "execution_count": 24,
   "metadata": {},
   "outputs": [
    {
     "data": {
      "text/plain": [
       "15     NaN\n",
       "37     NaN\n",
       "77     NaN\n",
       "79     NaN\n",
       "113    NaN\n",
       "Name: Bsmt Cond, dtype: object"
      ]
     },
     "execution_count": 24,
     "metadata": {},
     "output_type": "execute_result"
    }
   ],
   "source": [
    "# Checking if NaN for Bsmt Exposure correspond with having a basement\n",
    "df[df['Bsmt Exposure'].isnull()]['Bsmt Cond'].head()"
   ]
  },
  {
   "cell_type": "code",
   "execution_count": 25,
   "metadata": {},
   "outputs": [],
   "source": [
    "# Replacing NaNs with NA's for Bsmt Exposure\n",
    "df['Bsmt Exposure'].fillna('None', inplace=True)"
   ]
  },
  {
   "cell_type": "code",
   "execution_count": 26,
   "metadata": {},
   "outputs": [
    {
     "data": {
      "text/plain": [
       "Series([], Name: Garage Type, dtype: object)"
      ]
     },
     "execution_count": 26,
     "metadata": {},
     "output_type": "execute_result"
    }
   ],
   "source": [
    "# Checking if NaN for Garage Area correspond with having a garage\n",
    "df[df['Garage Area'].isnull()]['Garage Type'].head()"
   ]
  },
  {
   "cell_type": "code",
   "execution_count": 27,
   "metadata": {},
   "outputs": [],
   "source": [
    "# Average SF of Detached Garage\n",
    "detchd_sf = df[df['Garage Type']=='Detchd']['Garage Area'].mean()"
   ]
  },
  {
   "cell_type": "code",
   "execution_count": 28,
   "metadata": {},
   "outputs": [],
   "source": [
    "# Replacing NaNs with mean for Detached Garages\n",
    "df['Garage Area'].fillna(detchd_sf, inplace=True)"
   ]
  },
  {
   "cell_type": "code",
   "execution_count": 29,
   "metadata": {},
   "outputs": [
    {
     "data": {
      "text/plain": [
       "Series([], Name: Garage Type, dtype: object)"
      ]
     },
     "execution_count": 29,
     "metadata": {},
     "output_type": "execute_result"
    }
   ],
   "source": [
    "# Checking if NaN for Garage cars correspond with having a garage\n",
    "df[df['Garage Cars'].isnull()]['Garage Type'].head()"
   ]
  },
  {
   "cell_type": "code",
   "execution_count": 30,
   "metadata": {},
   "outputs": [],
   "source": [
    "# Average Cars of Detached Garage\n",
    "detchd_cars = df[df['Garage Type']=='Detchd']['Garage Cars'].mean()"
   ]
  },
  {
   "cell_type": "code",
   "execution_count": 31,
   "metadata": {},
   "outputs": [],
   "source": [
    "# Replacing NaNs with mean for Detached Cars\n",
    "df['Garage Cars'].fillna(detchd_cars, inplace=True)"
   ]
  },
  {
   "cell_type": "code",
   "execution_count": 32,
   "metadata": {},
   "outputs": [
    {
     "data": {
      "text/plain": [
       "SBrkr    814\n",
       "FuseA     48\n",
       "FuseF     15\n",
       "FuseP      1\n",
       "Name: Electrical, dtype: int64"
      ]
     },
     "execution_count": 32,
     "metadata": {},
     "output_type": "execute_result"
    }
   ],
   "source": [
    "# Checking values of \n",
    "df['Electrical'].value_counts()"
   ]
  },
  {
   "cell_type": "code",
   "execution_count": 33,
   "metadata": {},
   "outputs": [],
   "source": [
    "# Replacing NaNs with NA's for Bsmt Exposure\n",
    "df['Electrical'].fillna('SBrkr', inplace=True)"
   ]
  },
  {
   "cell_type": "code",
   "execution_count": 34,
   "metadata": {},
   "outputs": [],
   "source": [
    "# Lists of columns with nulls sorted by str and num\n",
    "string_null_list = ['Pool QC', 'Misc Feature', 'Alley', 'Fence',\n",
    "                   'Fireplace Qu', 'Garage Finish', 'Garage Cond',\n",
    "                   'Garage Qual','Garage Type', 'BsmtFin Type 1',\n",
    "                    'BsmtFin Type 2', 'Bsmt Cond', 'Bsmt Qual',\n",
    "                   'Mas Vnr Type']\n",
    "numer_null_list = ['Garage Yr Blt', 'Mas Vnr Area']"
   ]
  },
  {
   "cell_type": "code",
   "execution_count": 35,
   "metadata": {},
   "outputs": [],
   "source": [
    "# Replacing NaN with NA string\n",
    "[df[i].fillna('None', inplace=True) for i in string_null_list];"
   ]
  },
  {
   "cell_type": "code",
   "execution_count": 36,
   "metadata": {},
   "outputs": [],
   "source": [
    "# Replacing NaN with 0\n",
    "[df[i].fillna(0, inplace=True) for i in numer_null_list];"
   ]
  },
  {
   "cell_type": "code",
   "execution_count": 37,
   "metadata": {},
   "outputs": [
    {
     "data": {
      "text/plain": [
       "0"
      ]
     },
     "execution_count": 37,
     "metadata": {},
     "output_type": "execute_result"
    }
   ],
   "source": [
    "# Checking for any remaining nulls\n",
    "max(df.isnull().sum())"
   ]
  },
  {
   "cell_type": "code",
   "execution_count": 38,
   "metadata": {},
   "outputs": [],
   "source": [
    "# Changing column names to lowercase and removing spaces\n",
    "df.columns.str.lower().str.replace(' ', '_');"
   ]
  },
  {
   "cell_type": "code",
   "execution_count": 39,
   "metadata": {},
   "outputs": [],
   "source": [
    "df.to_csv('./datasets/cleaned_test')"
   ]
  }
 ],
 "metadata": {
  "kernelspec": {
   "display_name": "Python 3",
   "language": "python",
   "name": "python3"
  },
  "language_info": {
   "codemirror_mode": {
    "name": "ipython",
    "version": 3
   },
   "file_extension": ".py",
   "mimetype": "text/x-python",
   "name": "python",
   "nbconvert_exporter": "python",
   "pygments_lexer": "ipython3",
   "version": "3.6.7"
  }
 },
 "nbformat": 4,
 "nbformat_minor": 2
}
