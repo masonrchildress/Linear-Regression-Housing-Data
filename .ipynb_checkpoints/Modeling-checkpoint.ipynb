{
 "cells": [
  {
   "cell_type": "code",
   "execution_count": 1,
   "metadata": {},
   "outputs": [],
   "source": [
    "import pandas as pd\n",
    "import numpy as np\n",
    "import seaborn as sns\n",
    "import matplotlib.pyplot as plt\n",
    "from sklearn.model_selection import train_test_split, cross_val_score\n",
    "from sklearn.linear_model import LinearRegression, LassoCV, RidgeCV\n",
    "from sklearn.preprocessing import StandardScaler, PolynomialFeatures\n",
    "from sklearn.metrics import r2_score\n",
    "\n",
    "%matplotlib inline\n",
    "\n",
    "import warnings\n",
    "warnings.simplefilter(action='ignore', category=FutureWarning)"
   ]
  },
  {
   "cell_type": "code",
   "execution_count": 2,
   "metadata": {},
   "outputs": [],
   "source": [
    "df = pd.read_csv('./datasets/cleaned_train')\n",
    "test = pd.read_csv('./datasets/cleaned_test')"
   ]
  },
  {
   "cell_type": "code",
   "execution_count": 3,
   "metadata": {},
   "outputs": [],
   "source": [
    "df.drop(columns='Unnamed: 0', inplace=True)"
   ]
  },
  {
   "cell_type": "markdown",
   "metadata": {},
   "source": [
    "### Prepping features and scaling"
   ]
  },
  {
   "cell_type": "code",
   "execution_count": 4,
   "metadata": {
    "scrolled": true
   },
   "outputs": [
    {
     "name": "stderr",
     "output_type": "stream",
     "text": [
      "C:\\Users\\Mason\\Anaconda3\\lib\\site-packages\\sklearn\\preprocessing\\data.py:617: DataConversionWarning: Data with input dtype int64, float64 were all converted to float64 by StandardScaler.\n",
      "  return self.partial_fit(X, y)\n",
      "C:\\Users\\Mason\\Anaconda3\\lib\\site-packages\\ipykernel_launcher.py:30: DataConversionWarning: Data with input dtype int64, float64 were all converted to float64 by StandardScaler.\n",
      "C:\\Users\\Mason\\Anaconda3\\lib\\site-packages\\ipykernel_launcher.py:31: DataConversionWarning: Data with input dtype int64, float64 were all converted to float64 by StandardScaler.\n"
     ]
    }
   ],
   "source": [
    "numerical_columns = df._get_numeric_data().columns\n",
    "features = [col for col in numerical_columns if col != 'SalePrice']\n",
    "\n",
    "# initial split of X and y\n",
    "X = df[features]\n",
    "y = df['SalePrice']\n",
    "\n",
    "# instantiate PolynomialFeatures object\n",
    "pf = PolynomialFeatures(degree = 2,\n",
    "                       interaction_only=True,\n",
    "                       include_bias=False)\n",
    "\n",
    "# transform X to have polynomial features\n",
    "pf = pf.fit(X)\n",
    "\n",
    "# this has the new features:\n",
    "X_overfit = pf.transform(X)\n",
    "\n",
    "# standard features:\n",
    "X_train, X_test, y_train, y_test = train_test_split(X, y,\n",
    "                                                   random_state=42)\n",
    "\n",
    "# overfit features:\n",
    "X_overfit_train, X_overfit_test, y_overfit_train, y_overfit_test = train_test_split(X_overfit, y,\n",
    "                                                   random_state=42)\n",
    "\n",
    "# instantiate StandardScaler for original features:\n",
    "ss = StandardScaler()\n",
    "ss.fit(X_train)\n",
    "X_train_sc = ss.transform(X_train)\n",
    "X_test_sc = ss.transform(X_test)\n",
    "\n",
    "# instantiate StandardScaler for overfit features:\n",
    "ss_overfit = StandardScaler()\n",
    "ss_overfit.fit(X_overfit_train)\n",
    "X_overfit_train_sc = ss_overfit.transform(X_overfit_train)\n",
    "X_overfit_test_sc = ss_overfit.transform(X_overfit_test)"
   ]
  },
  {
   "cell_type": "code",
   "execution_count": 5,
   "metadata": {},
   "outputs": [],
   "source": [
    "lr = LinearRegression()\n",
    "lr_overfit = LinearRegression()\n",
    "\n",
    "lasso = LassoCV(max_iter=10000)\n",
    "lasso_overfit = LassoCV(max_iter=10000)\n",
    "\n",
    "r_alphas = np.logspace(0, 5, 200)\n",
    "ridge = RidgeCV(alphas=r_alphas)\n",
    "ridge_overfit = RidgeCV(alphas=r_alphas)"
   ]
  },
  {
   "cell_type": "markdown",
   "metadata": {},
   "source": [
    "### Making Dummies for ordinals"
   ]
  },
  {
   "cell_type": "code",
   "execution_count": null,
   "metadata": {},
   "outputs": [],
   "source": []
  },
  {
   "cell_type": "markdown",
   "metadata": {},
   "source": [
    "### LR Tests"
   ]
  },
  {
   "cell_type": "code",
   "execution_count": 6,
   "metadata": {},
   "outputs": [
    {
     "name": "stdout",
     "output_type": "stream",
     "text": [
      "lr cross_val_score 0.7552460542392524\n",
      "lr train r2 = 0.830605400694701\n",
      "lr test r2 = 0.865150682828471\n"
     ]
    },
    {
     "data": {
      "image/png": "[encoded data removed]",
      "text/plain": [
       "<Figure size 432x288 with 1 Axes>"
      ]
     },
     "metadata": {
      "needs_background": "light"
     },
     "output_type": "display_data"
    }
   ],
   "source": [
    "print(\"lr cross_val_score\", cross_val_score(lr, X_train_sc, y_train, cv=3).mean())\n",
    "\n",
    "lr.fit(X_train_sc, y_train)\n",
    "\n",
    "print('lr train r2 =', lr.score(X_train_sc, y_train))\n",
    "\n",
    "print('lr test r2 =', lr.score(X_test_sc, y_test))\n",
    "\n",
    "lr_preds = lr.predict(X_test_sc)\n",
    "\n",
    "lr_residuals = y_test - lr_preds\n",
    "\n",
    "lr_residuals.hist()\n",
    "plt.xlabel('lr_residuals');"
   ]
  },
  {
   "cell_type": "code",
   "execution_count": 7,
   "metadata": {},
   "outputs": [
    {
     "name": "stdout",
     "output_type": "stream",
     "text": [
      "lr_overfit cross_val_score -4.4319267373388456e+21\n",
      "lr_overfit train r2 = 0.9659020603283522\n",
      "lr_overfit test r2 = -2.400353246690856e+21\n"
     ]
    },
    {
     "data": {
      "image/png": "[encoded data removed]",
      "text/plain": [
       "<Figure size 432x288 with 1 Axes>"
      ]
     },
     "metadata": {
      "needs_background": "light"
     },
     "output_type": "display_data"
    }
   ],
   "source": [
    "print(\"lr_overfit cross_val_score\", cross_val_score(lr_overfit, X_overfit_train_sc, y_overfit_train, cv=3).mean())\n",
    "\n",
    "lr_overfit.fit(X_overfit_train_sc, y_overfit_train)\n",
    "\n",
    "print('lr_overfit train r2 =', lr_overfit.score(X_overfit_train_sc, y_overfit_train))\n",
    "\n",
    "print('lr_overfit test r2 =', lr_overfit.score(X_overfit_test_sc, y_overfit_test))\n",
    "\n",
    "lr_overfit_preds = lr_overfit.predict(X_overfit_test_sc)\n",
    "\n",
    "lr_overfit_residuals = y_overfit_test - lr_overfit_preds\n",
    "\n",
    "lr_overfit_residuals.hist()\n",
    "plt.xlabel('lr_overfit_residuals');"
   ]
  },
  {
   "cell_type": "markdown",
   "metadata": {},
   "source": [
    "### Lasso Tests"
   ]
  },
  {
   "cell_type": "code",
   "execution_count": 8,
   "metadata": {},
   "outputs": [
    {
     "name": "stdout",
     "output_type": "stream",
     "text": [
      "lasso cross_val_score 0.7598096924190259\n",
      "lasso train r2 = 0.8112725041577651\n",
      "lasso test r2 = 0.8552664321752597\n"
     ]
    },
    {
     "data": {
      "image/png": "[encoded data removed]",
      "text/plain": [
       "<Figure size 432x288 with 1 Axes>"
      ]
     },
     "metadata": {
      "needs_background": "light"
     },
     "output_type": "display_data"
    }
   ],
   "source": [
    "print(\"lasso cross_val_score\", cross_val_score(lasso, X_train_sc, y_train, cv=3).mean())\n",
    "\n",
    "lasso.fit(X_train_sc, y_train)\n",
    "\n",
    "print('lasso train r2 =', lasso.score(X_train_sc, y_train))\n",
    "\n",
    "print('lasso test r2 =', lasso.score(X_test_sc, y_test))\n",
    "\n",
    "lasso_preds = lasso.predict(X_test_sc)\n",
    "\n",
    "lasso_residuals = y_test - lasso_preds\n",
    "\n",
    "lasso_residuals.hist()\n",
    "plt.xlabel('lasso_residuals');"
   ]
  },
  {
   "cell_type": "code",
   "execution_count": 9,
   "metadata": {},
   "outputs": [
    {
     "name": "stdout",
     "output_type": "stream",
     "text": [
      "lasso_overfit cross_val_score [0.8319077  0.83422922 0.42294991]\n",
      "lasso_overfit train r2 = 0.9150226641615112\n",
      "lasso_overfit test r2 = 0.909546020183483\n"
     ]
    },
    {
     "data": {
      "image/png": "[encoded data removed]",
      "text/plain": [
       "<Figure size 432x288 with 1 Axes>"
      ]
     },
     "metadata": {
      "needs_background": "light"
     },
     "output_type": "display_data"
    }
   ],
   "source": [
    "# Showing  cross val score\n",
    "print(\"lasso_overfit cross_val_score\", cross_val_score(lasso_overfit,\n",
    "                                                       X_overfit_train_sc,\n",
    "                                                       y_overfit_train,\n",
    "                                                       cv=3))\n",
    "# Fitting to overfit data\n",
    "lasso_overfit.fit(X_overfit_train_sc, y_overfit_train)\n",
    "\n",
    "print('lasso_overfit train r2 =', lasso_overfit.score(X_overfit_train_sc,\n",
    "                                                      y_overfit_train))\n",
    "\n",
    "print('lasso_overfit test r2 =', lasso_overfit.score(X_overfit_test_sc,\n",
    "                                                     y_overfit_test))\n",
    "\n",
    "lasso_overfit_preds = lasso_overfit.predict(X_overfit_test)\n",
    "\n",
    "lasso_overfit_residuals = y_overfit_test - lasso_overfit_preds\n",
    "\n",
    "lasso_overfit_residuals.hist()\n",
    "plt.xlabel('lasso_overfit_residuals');"
   ]
  },
  {
   "cell_type": "code",
   "execution_count": 24,
   "metadata": {},
   "outputs": [
    {
     "data": {
      "text/plain": [
       "array([4.96240028e+10, 5.11976000e+10, 5.48263832e+10, 4.94974406e+10,\n",
       "       5.36652478e+10, 5.19363652e+10, 5.13144411e+10, 5.14786026e+10,\n",
       "       4.97239804e+10, 4.80905510e+10, 4.89923823e+10, 5.14153745e+10,\n",
       "       5.02578274e+10, 4.88918617e+10, 4.85045043e+10, 4.89879855e+10,\n",
       "       4.93407698e+10, 5.36302633e+10, 5.74542733e+10, 4.99728415e+10,\n",
       "       5.12432751e+10, 5.11700564e+10, 4.90800357e+10, 4.87721764e+10,\n",
       "       5.31709568e+10, 5.05261548e+10, 5.10924090e+10, 4.87652731e+10,\n",
       "       5.24089571e+10, 4.90698530e+10, 5.24472215e+10, 4.95472788e+10,\n",
       "       4.89532243e+10, 5.12889665e+10, 5.36231265e+10, 4.92611187e+10,\n",
       "       6.04345608e+10, 5.16175386e+10, 5.22262623e+10, 4.76527847e+10,\n",
       "       5.14215567e+10, 5.07681478e+10, 5.54472783e+10, 5.14987131e+10,\n",
       "       4.96005474e+10, 4.89982584e+10, 5.01985100e+10, 4.95294071e+10,\n",
       "       5.64487164e+10, 4.93751934e+10, 5.18313497e+10, 4.74632537e+10,\n",
       "       5.01906296e+10, 5.27364266e+10, 4.96345890e+10, 4.81558200e+10,\n",
       "       5.60862466e+10, 5.34531774e+10, 5.01738038e+10, 5.07102062e+10,\n",
       "       5.46197658e+10, 4.81336118e+10, 4.91353624e+10, 5.14861833e+10,\n",
       "       5.12562464e+10, 4.82184960e+10, 5.16599352e+10, 5.18516599e+10,\n",
       "       5.64325234e+10, 5.11483478e+10, 5.96931061e+10, 5.23927760e+10,\n",
       "       5.13556595e+10, 4.89896120e+10, 4.98194949e+10, 5.05790563e+10,\n",
       "       5.12935818e+10, 5.09666859e+10, 4.87922941e+10, 5.16265461e+10,\n",
       "       4.92220107e+10, 4.85785131e+10, 5.89860558e+10, 5.10188948e+10,\n",
       "       4.97576553e+10, 4.86067674e+10, 4.86627402e+10, 5.35442370e+10,\n",
       "       4.90079216e+10, 4.99560745e+10, 5.05962751e+10, 4.92024377e+10,\n",
       "       4.98447618e+10, 6.78756705e+10, 4.88652147e+10, 5.37692199e+10,\n",
       "       4.84248804e+10, 4.94057017e+10, 5.06793772e+10, 4.93167724e+10,\n",
       "       4.89726550e+10, 5.88754918e+10, 4.83977570e+10, 5.10920382e+10,\n",
       "       5.29289088e+10, 4.99445430e+10, 4.86950777e+10, 5.12329701e+10,\n",
       "       4.98597025e+10, 4.95415705e+10, 4.78266301e+10, 6.02791557e+10,\n",
       "       4.89947258e+10, 5.50371423e+10, 4.93211394e+10, 5.12247319e+10,\n",
       "       5.68113507e+10, 4.91662161e+10, 4.96061663e+10, 5.03990103e+10,\n",
       "       5.35458844e+10, 5.69252154e+10, 5.88746792e+10, 4.86545032e+10,\n",
       "       5.11668671e+10, 5.14884632e+10, 4.91246686e+10, 5.17630711e+10,\n",
       "       5.14609657e+10, 4.92840993e+10, 5.01450973e+10, 5.00213603e+10,\n",
       "       5.00523293e+10, 5.24436679e+10, 4.94766147e+10, 5.02326494e+10,\n",
       "       5.33073921e+10, 4.98290370e+10, 4.98530666e+10, 5.00333206e+10,\n",
       "       4.81103584e+10, 4.77744080e+10, 4.88544039e+10, 4.95504698e+10,\n",
       "       5.10897207e+10, 5.10874496e+10, 6.15193384e+10, 5.06281621e+10,\n",
       "       4.95893457e+10, 5.03459707e+10, 4.88593042e+10, 5.15253440e+10,\n",
       "       4.85461232e+10, 5.12078986e+10, 4.85562654e+10, 5.18826687e+10,\n",
       "       5.15812711e+10, 4.91082585e+10, 5.07156738e+10, 5.29544644e+10,\n",
       "       5.94448472e+10, 5.31042828e+10, 4.91318652e+10, 5.29032234e+10,\n",
       "       4.91225237e+10, 5.17612245e+10, 4.91466263e+10, 5.04938457e+10,\n",
       "       4.96651258e+10, 5.16062912e+10, 5.11468960e+10, 4.91502357e+10,\n",
       "       5.01837932e+10, 5.12719579e+10, 4.91584186e+10, 4.91114578e+10,\n",
       "       5.21258696e+10, 4.91409679e+10, 4.97204525e+10, 4.80353722e+10,\n",
       "       5.06454875e+10, 5.01307448e+10, 5.28081692e+10, 5.15418819e+10,\n",
       "       4.87986166e+10, 5.22307607e+10, 4.95549130e+10, 5.20302465e+10,\n",
       "       4.80955812e+10, 4.96707478e+10, 5.14170815e+10, 4.93542847e+10,\n",
       "       5.02747148e+10, 4.74092741e+10, 4.98999132e+10, 5.28018967e+10,\n",
       "       4.92452933e+10, 5.16816530e+10, 5.19628339e+10, 5.17114036e+10,\n",
       "       5.29217206e+10, 4.90999316e+10, 5.25847518e+10, 4.92834230e+10,\n",
       "       4.86492506e+10, 4.89764647e+10, 5.14017790e+10, 4.90596212e+10,\n",
       "       4.98557064e+10, 5.09513658e+10, 4.85652355e+10, 5.29618551e+10,\n",
       "       5.10150256e+10, 4.99976418e+10, 5.89688953e+10, 5.11873066e+10,\n",
       "       5.17214029e+10, 4.96192413e+10, 5.84742611e+10, 4.80094905e+10,\n",
       "       4.84433307e+10, 5.07193154e+10, 5.10774741e+10, 5.29451640e+10,\n",
       "       4.95521024e+10, 5.85864574e+10, 5.15108197e+10, 4.91901513e+10,\n",
       "       4.87848584e+10, 6.22089286e+10, 4.86862978e+10, 4.92567342e+10,\n",
       "       5.09952361e+10, 5.06303600e+10, 5.08199802e+10, 4.97814533e+10,\n",
       "       5.11250078e+10, 4.74810306e+10, 5.00412082e+10, 5.29425069e+10,\n",
       "       5.15525667e+10, 4.92361060e+10, 4.88513553e+10, 4.91998040e+10,\n",
       "       5.43451194e+10, 5.12019002e+10, 5.20150226e+10, 5.00807360e+10,\n",
       "       5.03673270e+10, 5.14239212e+10, 5.41415000e+10, 5.20223964e+10,\n",
       "       5.04038476e+10, 5.08054337e+10, 5.43331578e+10, 4.86412341e+10,\n",
       "       5.00437732e+10, 4.82019566e+10, 5.85327998e+10, 5.15021637e+10,\n",
       "       5.07781620e+10, 4.84359920e+10, 5.56061675e+10, 5.06077484e+10,\n",
       "       5.22240539e+10, 5.20937308e+10, 5.09756683e+10, 4.77176196e+10,\n",
       "       4.93245662e+10, 5.19076017e+10, 5.04558991e+10, 5.58968182e+10,\n",
       "       4.75080941e+10, 5.19860852e+10, 5.00253432e+10, 5.89975961e+10,\n",
       "       5.67466907e+10, 5.10069718e+10, 5.18327642e+10, 4.99791030e+10,\n",
       "       4.87132286e+10, 5.95323390e+10, 5.09789246e+10, 5.14933612e+10,\n",
       "       4.74397999e+10, 5.79482336e+10, 5.29613746e+10, 4.76866118e+10,\n",
       "       4.81181927e+10, 4.97158682e+10, 5.15471996e+10, 5.25578639e+10,\n",
       "       4.87463076e+10, 5.02376611e+10, 5.45821305e+10, 5.17434120e+10,\n",
       "       4.99476343e+10, 4.86096829e+10, 5.28072292e+10, 5.40907236e+10,\n",
       "       4.92728512e+10, 5.13756876e+10, 5.16368592e+10, 4.87263342e+10,\n",
       "       5.72829645e+10, 5.19921839e+10, 5.07434449e+10, 5.19035724e+10,\n",
       "       5.04254008e+10, 5.26850023e+10, 4.88774596e+10, 4.82096194e+10,\n",
       "       5.31417495e+10, 5.08677054e+10, 5.69727646e+10, 5.12918543e+10,\n",
       "       5.00556296e+10, 5.55312641e+10, 6.24453047e+10, 5.22505106e+10,\n",
       "       4.94622970e+10, 4.76854760e+10, 5.00963109e+10, 5.63764174e+10,\n",
       "       5.65869873e+10, 4.78291572e+10, 4.95312832e+10, 5.28629881e+10,\n",
       "       5.15981056e+10, 4.81552738e+10, 5.03922258e+10, 5.01274858e+10,\n",
       "       5.08444796e+10, 5.07025066e+10, 4.77525705e+10, 4.96018350e+10,\n",
       "       5.76528083e+10, 5.59199482e+10, 5.20537429e+10, 4.67244263e+10,\n",
       "       5.35038433e+10, 5.00556952e+10, 5.03165329e+10, 6.73396215e+10,\n",
       "       5.03139696e+10, 5.31417495e+10, 4.91670004e+10, 5.11020823e+10,\n",
       "       4.82320660e+10, 4.84265660e+10, 4.93284676e+10, 4.93922903e+10,\n",
       "       4.86878038e+10, 5.32683271e+10, 5.15182862e+10, 4.98257069e+10,\n",
       "       5.34971470e+10, 4.96120682e+10, 4.73797142e+10, 4.98898822e+10,\n",
       "       5.15915431e+10, 5.24691557e+10, 4.86599368e+10, 5.01336771e+10,\n",
       "       5.12699692e+10, 5.13094001e+10, 5.37244532e+10, 5.12131154e+10,\n",
       "       5.14890152e+10, 5.15824702e+10, 4.99838726e+10, 4.90665055e+10,\n",
       "       5.11014106e+10, 5.17832680e+10, 4.87613101e+10, 5.18548464e+10,\n",
       "       4.75819844e+10, 5.29187226e+10, 5.32956371e+10, 5.12487482e+10,\n",
       "       4.79518908e+10, 5.33953707e+10, 5.15793304e+10, 5.09183514e+10,\n",
       "       5.42809743e+10, 4.77716085e+10, 4.96618894e+10, 5.10090760e+10,\n",
       "       5.53487348e+10, 5.08174629e+10, 4.90120828e+10, 5.25676448e+10,\n",
       "       5.84409219e+10, 5.00587734e+10, 5.26517207e+10, 5.32776809e+10,\n",
       "       4.91693660e+10, 5.16044216e+10, 5.14449070e+10, 4.88063696e+10,\n",
       "       4.92012299e+10, 5.02192139e+10, 5.13838642e+10, 6.20236155e+10,\n",
       "       5.31568510e+10, 5.14051352e+10, 5.10495371e+10, 4.75713846e+10,\n",
       "       5.17311485e+10, 5.17014348e+10, 5.25165514e+10, 5.11644709e+10,\n",
       "       5.19361029e+10, 5.14953677e+10, 5.52817842e+10, 5.16538173e+10,\n",
       "       5.82914576e+10, 4.85085129e+10, 5.14801113e+10, 4.90251643e+10,\n",
       "       5.18960695e+10, 5.15337750e+10, 4.86480338e+10, 5.23875735e+10,\n",
       "       4.87875194e+10, 5.41993688e+10, 4.79603196e+10, 4.91030011e+10,\n",
       "       5.20822427e+10, 5.14234584e+10, 5.15264628e+10, 5.18876891e+10,\n",
       "       4.93042329e+10, 5.30624151e+10, 4.80666439e+10, 6.40653302e+10,\n",
       "       5.28040891e+10, 5.10173753e+10, 5.10875230e+10, 4.88652509e+10,\n",
       "       4.93440157e+10, 4.92569477e+10, 4.90373911e+10, 5.05715961e+10,\n",
       "       5.26858464e+10, 5.34513058e+10, 5.23657193e+10, 5.14561342e+10,\n",
       "       5.13685109e+10, 5.14433775e+10, 5.07713340e+10, 4.93361124e+10,\n",
       "       4.89566826e+10, 5.30196253e+10, 4.98294721e+10, 5.43881415e+10,\n",
       "       6.24357780e+10, 5.32199518e+10, 5.18199032e+10, 5.35991859e+10,\n",
       "       5.72417189e+10, 4.94747063e+10, 5.08572254e+10, 5.14501612e+10,\n",
       "       4.97292115e+10, 4.89229380e+10, 4.89771024e+10, 5.07133975e+10,\n",
       "       5.16689359e+10, 5.25167958e+10, 5.12422627e+10, 4.72449064e+10,\n",
       "       5.21379869e+10, 5.02762772e+10, 4.95245258e+10, 5.54730455e+10,\n",
       "       5.12582501e+10, 4.78877688e+10, 4.83130850e+10, 5.00968493e+10,\n",
       "       4.93726324e+10, 4.75191339e+10, 5.13500679e+10, 4.76740262e+10,\n",
       "       4.97019924e+10, 5.27870963e+10, 4.99355761e+10, 5.16680292e+10,\n",
       "       5.17154686e+10, 5.12954470e+10, 4.98929827e+10, 5.03080766e+10,\n",
       "       5.14562309e+10, 4.95298623e+10, 4.91140206e+10, 4.99821564e+10,\n",
       "       4.92327302e+10, 4.88098198e+10, 5.11967058e+10, 5.04372434e+10,\n",
       "       4.89764119e+10, 5.65634000e+10, 5.36588117e+10, 4.89501759e+10,\n",
       "       5.05560747e+10, 5.21440725e+10, 5.31727319e+10, 4.77078745e+10,\n",
       "       4.89350210e+10, 4.87634817e+10, 4.87532748e+10, 4.89953384e+10,\n",
       "       5.15950019e+10])"
      ]
     },
     "execution_count": 24,
     "metadata": {},
     "output_type": "execute_result"
    }
   ],
   "source": [
    "lasso_overfit_preds"
   ]
  },
  {
   "cell_type": "code",
   "execution_count": 10,
   "metadata": {},
   "outputs": [
    {
     "data": {
      "text/plain": [
       "933.6587504921476"
      ]
     },
     "execution_count": 10,
     "metadata": {},
     "output_type": "execute_result"
    }
   ],
   "source": [
    "lasso_overfit.alpha_"
   ]
  },
  {
   "cell_type": "markdown",
   "metadata": {},
   "source": [
    "### Ridge Tests"
   ]
  },
  {
   "cell_type": "code",
   "execution_count": 11,
   "metadata": {},
   "outputs": [
    {
     "name": "stdout",
     "output_type": "stream",
     "text": [
      "ridge cross_val_score 0.7633297814630029\n",
      "ridge train r2 = 0.8214610207797404\n",
      "ridge test r2 = 0.8581721383303372\n"
     ]
    },
    {
     "data": {
      "image/png": "[encoded data removed]",
      "text/plain": [
       "<Figure size 432x288 with 1 Axes>"
      ]
     },
     "metadata": {
      "needs_background": "light"
     },
     "output_type": "display_data"
    }
   ],
   "source": [
    "print(\"ridge cross_val_score\", cross_val_score(ridge, X_train_sc, y_train, cv=3).mean())\n",
    "\n",
    "ridge.fit(X_train_sc, y_train)\n",
    "\n",
    "print('ridge train r2 =', ridge.score(X_train_sc, y_train))\n",
    "\n",
    "print('ridge test r2 =', ridge.score(X_test_sc, y_test))\n",
    "\n",
    "ridge_preds = ridge.predict(X_test_sc)\n",
    "\n",
    "ridge_residuals = y_test - ridge_preds\n",
    "\n",
    "ridge_residuals.hist()\n",
    "plt.xlabel('ridge_residuals');"
   ]
  },
  {
   "cell_type": "code",
   "execution_count": 12,
   "metadata": {},
   "outputs": [
    {
     "name": "stdout",
     "output_type": "stream",
     "text": [
      "ridge_overfit cross_val_score 0.6279369641605228\n",
      "ridge_overfit train r2 = 0.8784111539765267\n",
      "ridge_overfit test r2 = 0.8803611494621135\n"
     ]
    },
    {
     "data": {
      "image/png": "[encoded data removed]",
      "text/plain": [
       "<Figure size 432x288 with 1 Axes>"
      ]
     },
     "metadata": {
      "needs_background": "light"
     },
     "output_type": "display_data"
    }
   ],
   "source": [
    "print(\"ridge_overfit cross_val_score\", cross_val_score(ridge_overfit, X_overfit_train_sc, y_overfit_train, cv=3).mean())\n",
    "\n",
    "ridge_overfit.fit(X_overfit_train_sc, y_overfit_train)\n",
    "\n",
    "print('ridge_overfit train r2 =', ridge_overfit.score(X_overfit_train_sc, y_overfit_train))\n",
    "\n",
    "print('ridge_overfit test r2 =', ridge_overfit.score(X_overfit_test_sc, y_overfit_test))\n",
    "\n",
    "ridge_overfit_preds = ridge_overfit.predict(X_overfit_test_sc)\n",
    "\n",
    "ridge_overfit_residuals = y_overfit_test - ridge_overfit_preds\n",
    "\n",
    "ridge_overfit_residuals.hist()\n",
    "plt.xlabel('ridge_overfit_residuals');"
   ]
  },
  {
   "cell_type": "markdown",
   "metadata": {},
   "source": [
    "### Predicting and Submitting"
   ]
  },
  {
   "cell_type": "code",
   "execution_count": 13,
   "metadata": {},
   "outputs": [],
   "source": [
    "test_subset = test[features]\n",
    "pf2 = PolynomialFeatures(degree = 2,\n",
    "                        interaction_only=True,\n",
    "                        include_bias=False)\n",
    "pf2 = pf2.fit(test_subset)\n",
    "test_subset_overfit = pf2.transform(test_subset)\n",
    "\n",
    "ss_submit = StandardScaler()\n",
    "ss_submit.fit(test_subset_overfit)\n",
    "test_subset_overfit_sc = ss_submit.transform(test_subset_overfit)"
   ]
  },
  {
   "cell_type": "code",
   "execution_count": 25,
   "metadata": {},
   "outputs": [],
   "source": [
    "preds = lasso_overfit.predict(test_subset_overfit_sc)\n",
    "to_submit = pd.DataFrame({\n",
    "    'Id': test['Id'],\n",
    "    'SalePrice':preds\n",
    "})"
   ]
  },
  {
   "cell_type": "code",
   "execution_count": 27,
   "metadata": {},
   "outputs": [
    {
     "data": {
      "text/html": [
       "<div>\n",
       "<style scoped>\n",
       "    .dataframe tbody tr th:only-of-type {\n",
       "        vertical-align: middle;\n",
       "    }\n",
       "\n",
       "    .dataframe tbody tr th {\n",
       "        vertical-align: top;\n",
       "    }\n",
       "\n",
       "    .dataframe thead th {\n",
       "        text-align: right;\n",
       "    }\n",
       "</style>\n",
       "<table border=\"1\" class=\"dataframe\">\n",
       "  <thead>\n",
       "    <tr style=\"text-align: right;\">\n",
       "      <th></th>\n",
       "      <th>Id</th>\n",
       "      <th>SalePrice</th>\n",
       "    </tr>\n",
       "  </thead>\n",
       "  <tbody>\n",
       "    <tr>\n",
       "      <th>0</th>\n",
       "      <td>2658</td>\n",
       "      <td>145706.084301</td>\n",
       "    </tr>\n",
       "    <tr>\n",
       "      <th>1</th>\n",
       "      <td>2718</td>\n",
       "      <td>157319.642659</td>\n",
       "    </tr>\n",
       "    <tr>\n",
       "      <th>2</th>\n",
       "      <td>2414</td>\n",
       "      <td>204748.976953</td>\n",
       "    </tr>\n",
       "    <tr>\n",
       "      <th>3</th>\n",
       "      <td>1989</td>\n",
       "      <td>116082.842044</td>\n",
       "    </tr>\n",
       "    <tr>\n",
       "      <th>4</th>\n",
       "      <td>625</td>\n",
       "      <td>195663.606217</td>\n",
       "    </tr>\n",
       "  </tbody>\n",
       "</table>\n",
       "</div>"
      ],
      "text/plain": [
       "     Id      SalePrice\n",
       "0  2658  145706.084301\n",
       "1  2718  157319.642659\n",
       "2  2414  204748.976953\n",
       "3  1989  116082.842044\n",
       "4   625  195663.606217"
      ]
     },
     "execution_count": 27,
     "metadata": {},
     "output_type": "execute_result"
    }
   ],
   "source": [
    "to_submit.head()"
   ]
  },
  {
   "cell_type": "code",
   "execution_count": null,
   "metadata": {},
   "outputs": [],
   "source": []
  },
  {
   "cell_type": "code",
   "execution_count": null,
   "metadata": {},
   "outputs": [],
   "source": []
  }
 ],
 "metadata": {
  "kernelspec": {
   "display_name": "Python 3",
   "language": "python",
   "name": "python3"
  },
  "language_info": {
   "codemirror_mode": {
    "name": "ipython",
    "version": 3
   },
   "file_extension": ".py",
   "mimetype": "text/x-python",
   "name": "python",
   "nbconvert_exporter": "python",
   "pygments_lexer": "ipython3",
   "version": "3.6.7"
  }
 },
 "nbformat": 4,
 "nbformat_minor": 2
}
