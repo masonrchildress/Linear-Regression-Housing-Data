{
 "cells": [
  {
   "cell_type": "code",
   "execution_count": 1,
   "metadata": {},
   "outputs": [],
   "source": [
    "import pandas as pd\n",
    "import numpy as np\n",
    "import seaborn as sns\n",
    "import matplotlib.pyplot as plt\n",
    "from sklearn.model_selection import train_test_split, cross_val_score\n",
    "from sklearn.linear_model import LinearRegression, LassoCV, RidgeCV\n",
    "from sklearn.preprocessing import StandardScaler, PolynomialFeatures\n",
    "from sklearn.metrics import r2_score\n",
    "\n",
    "%matplotlib inline\n",
    "\n",
    "import warnings\n",
    "warnings.simplefilter(action='ignore', category=FutureWarning)"
   ]
  },
  {
   "cell_type": "code",
   "execution_count": 2,
   "metadata": {},
   "outputs": [],
   "source": [
    "# Reading in Cleaned csv's\n",
    "df = pd.read_csv('./datasets/cleaned_train.csv')\n",
    "test = pd.read_csv('./datasets/cleaned_test.csv')"
   ]
  },
  {
   "cell_type": "code",
   "execution_count": 3,
   "metadata": {},
   "outputs": [
    {
     "data": {
      "text/plain": [
       "((2051, 315), (879, 315))"
      ]
     },
     "execution_count": 3,
     "metadata": {},
     "output_type": "execute_result"
    }
   ],
   "source": [
    "# Correcting for missing columns in either\n",
    "for i in list(df.columns ^ test.columns):\n",
    "    if i in list(df.columns):\n",
    "        test[i] = 0\n",
    "    else:\n",
    "        df[i] = 0\n",
    "\n",
    "df.shape, test.shape"
   ]
  },
  {
   "cell_type": "markdown",
   "metadata": {},
   "source": [
    "### Prepping features and scaling"
   ]
  },
  {
   "cell_type": "code",
   "execution_count": 4,
   "metadata": {
    "scrolled": true
   },
   "outputs": [
    {
     "name": "stderr",
     "output_type": "stream",
     "text": [
      "C:\\Users\\Mason\\Anaconda3\\lib\\site-packages\\sklearn\\preprocessing\\data.py:617: DataConversionWarning: Data with input dtype int64, float64 were all converted to float64 by StandardScaler.\n",
      "  return self.partial_fit(X, y)\n",
      "C:\\Users\\Mason\\Anaconda3\\lib\\site-packages\\ipykernel_launcher.py:30: DataConversionWarning: Data with input dtype int64, float64 were all converted to float64 by StandardScaler.\n",
      "C:\\Users\\Mason\\Anaconda3\\lib\\site-packages\\ipykernel_launcher.py:31: DataConversionWarning: Data with input dtype int64, float64 were all converted to float64 by StandardScaler.\n"
     ]
    }
   ],
   "source": [
    "numerical_columns = df._get_numeric_data().columns\n",
    "features = [col for col in numerical_columns if col != 'SalePrice']\n",
    "\n",
    "# initial split of X and y\n",
    "X = df[features]\n",
    "y = df['SalePrice']\n",
    "\n",
    "# instantiate PolynomialFeatures object\n",
    "pf = PolynomialFeatures(degree = 2,\n",
    "                       interaction_only=True,\n",
    "                       include_bias=False)\n",
    "\n",
    "# transform X to have polynomial features\n",
    "pf = pf.fit(X)\n",
    "\n",
    "# this has the new features:\n",
    "X_overfit = pf.transform(X)\n",
    "\n",
    "# standard features:\n",
    "X_train, X_test, y_train, y_test = train_test_split(X, y,\n",
    "                                                   random_state=42)\n",
    "\n",
    "# overfit features:\n",
    "X_overfit_train, X_overfit_test, y_overfit_train, y_overfit_test = train_test_split(X_overfit, y,\n",
    "                                                   random_state=42)\n",
    "\n",
    "# instantiate StandardScaler for original features:\n",
    "ss = StandardScaler()\n",
    "ss.fit(X_train)\n",
    "X_train_sc = ss.transform(X_train)\n",
    "X_test_sc = ss.transform(X_test)\n",
    "\n",
    "# instantiate StandardScaler for overfit features:\n",
    "ss_overfit = StandardScaler()\n",
    "ss_overfit.fit(X_overfit_train)\n",
    "X_overfit_train_sc = ss_overfit.transform(X_overfit_train)\n",
    "X_overfit_test_sc = ss_overfit.transform(X_overfit_test)"
   ]
  },
  {
   "cell_type": "code",
   "execution_count": 6,
   "metadata": {},
   "outputs": [
    {
     "data": {
      "text/plain": [
       "(1538, 49455)"
      ]
     },
     "execution_count": 6,
     "metadata": {},
     "output_type": "execute_result"
    }
   ],
   "source": [
    "X_overfit_train_sc.shape"
   ]
  },
  {
   "cell_type": "code",
   "execution_count": 5,
   "metadata": {},
   "outputs": [],
   "source": [
    "lr = LinearRegression()\n",
    "lr_overfit = LinearRegression()\n",
    "\n",
    "lasso = LassoCV(max_iter=10000)\n",
    "lasso_overfit = LassoCV(max_iter=10000)\n",
    "\n",
    "r_alphas = np.logspace(0, 5, 200)\n",
    "ridge = RidgeCV(alphas=r_alphas)\n",
    "ridge_overfit = RidgeCV(alphas=r_alphas)"
   ]
  },
  {
   "cell_type": "markdown",
   "metadata": {},
   "source": [
    "### LR Tests"
   ]
  },
  {
   "cell_type": "code",
   "execution_count": 6,
   "metadata": {},
   "outputs": [
    {
     "name": "stdout",
     "output_type": "stream",
     "text": [
      "lr cross_val_score -3.5735619159244262e+25\n",
      "lr train r2 = 0.9451666151617949\n",
      "lr test r2 = -5.796449323984959e+23\n"
     ]
    },
    {
     "data": {
      "image/png": "[encoded data removed]",
      "text/plain": [
       "<Figure size 432x288 with 1 Axes>"
      ]
     },
     "metadata": {
      "needs_background": "light"
     },
     "output_type": "display_data"
    }
   ],
   "source": [
    "print(\"lr cross_val_score\", cross_val_score(lr, X_train_sc, y_train, cv=3).mean())\n",
    "\n",
    "lr.fit(X_train_sc, y_train)\n",
    "\n",
    "print('lr train r2 =', lr.score(X_train_sc, y_train))\n",
    "\n",
    "print('lr test r2 =', lr.score(X_test_sc, y_test))\n",
    "\n",
    "lr_preds = lr.predict(X_test_sc)\n",
    "\n",
    "lr_residuals = y_test - lr_preds\n",
    "\n",
    "lr_residuals.hist()\n",
    "plt.xlabel('lr_residuals');"
   ]
  },
  {
   "cell_type": "code",
   "execution_count": 7,
   "metadata": {},
   "outputs": [
    {
     "name": "stdout",
     "output_type": "stream",
     "text": [
      "lr_overfit cross_val_score 0.7543450293116626\n",
      "lr_overfit train r2 = 1.0\n",
      "lr_overfit test r2 = -40706093.56544397\n"
     ]
    },
    {
     "data": {
      "image/png": "[encoded data removed]",
      "text/plain": [
       "<Figure size 432x288 with 1 Axes>"
      ]
     },
     "metadata": {
      "needs_background": "light"
     },
     "output_type": "display_data"
    }
   ],
   "source": [
    "print(\"lr_overfit cross_val_score\", cross_val_score(lr_overfit, X_overfit_train_sc, y_overfit_train, cv=3).mean())\n",
    "\n",
    "lr_overfit.fit(X_overfit_train_sc, y_overfit_train)\n",
    "\n",
    "print('lr_overfit train r2 =', lr_overfit.score(X_overfit_train_sc, y_overfit_train))\n",
    "\n",
    "print('lr_overfit test r2 =', lr_overfit.score(X_overfit_test_sc, y_overfit_test))\n",
    "\n",
    "lr_overfit_preds = lr_overfit.predict(X_overfit_test_sc)\n",
    "\n",
    "lr_overfit_residuals = y_overfit_test - lr_overfit_preds\n",
    "\n",
    "lr_overfit_residuals.hist()\n",
    "plt.xlabel('lr_overfit_residuals');"
   ]
  },
  {
   "cell_type": "markdown",
   "metadata": {},
   "source": [
    "### Lasso Tests"
   ]
  },
  {
   "cell_type": "code",
   "execution_count": 8,
   "metadata": {},
   "outputs": [
    {
     "name": "stdout",
     "output_type": "stream",
     "text": [
      "lasso cross_val_score 0.8406890914196472\n",
      "lasso train r2 = 0.9303312157048212\n",
      "lasso test r2 = 0.9257564048338922\n"
     ]
    },
    {
     "data": {
      "image/png": "[encoded data removed]",
      "text/plain": [
       "<Figure size 432x288 with 1 Axes>"
      ]
     },
     "metadata": {
      "needs_background": "light"
     },
     "output_type": "display_data"
    }
   ],
   "source": [
    "print(\"lasso cross_val_score\", cross_val_score(lasso, X_train_sc, y_train, cv=3).mean())\n",
    "\n",
    "lasso.fit(X_train_sc, y_train)\n",
    "\n",
    "print('lasso train r2 =', lasso.score(X_train_sc, y_train))\n",
    "\n",
    "print('lasso test r2 =', lasso.score(X_test_sc, y_test))\n",
    "\n",
    "lasso_preds = lasso.predict(X_test_sc)\n",
    "\n",
    "lasso_residuals = y_test - lasso_preds\n",
    "\n",
    "lasso_residuals.hist()\n",
    "plt.xlabel('lasso_residuals');"
   ]
  },
  {
   "cell_type": "code",
   "execution_count": 9,
   "metadata": {},
   "outputs": [
    {
     "name": "stdout",
     "output_type": "stream",
     "text": [
      "lasso_overfit cross_val_score [0.91809768 0.92862159 0.57320952]\n",
      "lasso_overfit train r2 = 0.9678658061176897\n",
      "lasso_overfit test r2 = 0.9220848321862186\n"
     ]
    },
    {
     "data": {
      "image/png": "[encoded data removed]",
      "text/plain": [
       "<Figure size 432x288 with 1 Axes>"
      ]
     },
     "metadata": {
      "needs_background": "light"
     },
     "output_type": "display_data"
    }
   ],
   "source": [
    "# Showing  cross val score\n",
    "print(\"lasso_overfit cross_val_score\", cross_val_score(lasso_overfit,\n",
    "                                                       X_overfit_train_sc,\n",
    "                                                       y_overfit_train,\n",
    "                                                       cv=3)).mean()\n",
    "# Fitting to overfit data\n",
    "lasso_overfit.fit(X_overfit_train_sc, y_overfit_train)\n",
    "\n",
    "print('lasso_overfit train r2 =', lasso_overfit.score(X_overfit_train_sc,\n",
    "                                                      y_overfit_train))\n",
    "\n",
    "print('lasso_overfit test r2 =', lasso_overfit.score(X_overfit_test_sc,\n",
    "                                                     y_overfit_test))\n",
    "\n",
    "lasso_overfit_preds = lasso_overfit.predict(X_overfit_test)\n",
    "\n",
    "lasso_overfit_residuals = y_overfit_test - lasso_overfit_preds\n",
    "\n",
    "lasso_overfit_residuals.hist()\n",
    "plt.xlabel('lasso_overfit_residuals');"
   ]
  },
  {
   "cell_type": "code",
   "execution_count": 10,
   "metadata": {},
   "outputs": [
    {
     "data": {
      "text/plain": [
       "933.6587504921476"
      ]
     },
     "execution_count": 10,
     "metadata": {},
     "output_type": "execute_result"
    }
   ],
   "source": [
    "lasso_overfit.alpha_"
   ]
  },
  {
   "cell_type": "markdown",
   "metadata": {},
   "source": [
    "### Ridge Tests"
   ]
  },
  {
   "cell_type": "code",
   "execution_count": 11,
   "metadata": {},
   "outputs": [
    {
     "name": "stdout",
     "output_type": "stream",
     "text": [
      "ridge cross_val_score 0.8351325832845499\n",
      "ridge train r2 = 0.9234486471871618\n",
      "ridge test r2 = 0.9070065237946\n"
     ]
    },
    {
     "data": {
      "image/png": "[encoded data removed]",
      "text/plain": [
       "<Figure size 432x288 with 1 Axes>"
      ]
     },
     "metadata": {
      "needs_background": "light"
     },
     "output_type": "display_data"
    }
   ],
   "source": [
    "print(\"ridge cross_val_score\", cross_val_score(ridge, X_train_sc, y_train, cv=3).mean())\n",
    "\n",
    "ridge.fit(X_train_sc, y_train)\n",
    "\n",
    "print('ridge train r2 =', ridge.score(X_train_sc, y_train))\n",
    "\n",
    "print('ridge test r2 =', ridge.score(X_test_sc, y_test))\n",
    "\n",
    "ridge_preds = ridge.predict(X_test_sc)\n",
    "\n",
    "ridge_residuals = y_test - ridge_preds\n",
    "\n",
    "ridge_residuals.hist()\n",
    "plt.xlabel('ridge_residuals');"
   ]
  },
  {
   "cell_type": "code",
   "execution_count": 12,
   "metadata": {},
   "outputs": [
    {
     "name": "stdout",
     "output_type": "stream",
     "text": [
      "ridge_overfit cross_val_score 0.817750929244217\n",
      "ridge_overfit train r2 = 0.9548644726309895\n",
      "ridge_overfit test r2 = 0.9145827638745812\n"
     ]
    },
    {
     "data": {
      "image/png": "[encoded data removed]",
      "text/plain": [
       "<Figure size 432x288 with 1 Axes>"
      ]
     },
     "metadata": {
      "needs_background": "light"
     },
     "output_type": "display_data"
    }
   ],
   "source": [
    "print(\"ridge_overfit cross_val_score\", cross_val_score(ridge_overfit, X_overfit_train_sc, y_overfit_train, cv=3).mean())\n",
    "\n",
    "ridge_overfit.fit(X_overfit_train_sc, y_overfit_train)\n",
    "\n",
    "print('ridge_overfit train r2 =', ridge_overfit.score(X_overfit_train_sc, y_overfit_train))\n",
    "\n",
    "print('ridge_overfit test r2 =', ridge_overfit.score(X_overfit_test_sc, y_overfit_test))\n",
    "\n",
    "ridge_overfit_preds = ridge_overfit.predict(X_overfit_test_sc)\n",
    "\n",
    "ridge_overfit_residuals = y_overfit_test - ridge_overfit_preds\n",
    "\n",
    "ridge_overfit_residuals.hist()\n",
    "plt.xlabel('ridge_overfit_residuals');"
   ]
  },
  {
   "cell_type": "markdown",
   "metadata": {},
   "source": [
    "### Predicting and Submitting"
   ]
  },
  {
   "cell_type": "code",
   "execution_count": 102,
   "metadata": {},
   "outputs": [
    {
     "name": "stderr",
     "output_type": "stream",
     "text": [
      "C:\\Users\\Mason\\Anaconda3\\lib\\site-packages\\sklearn\\preprocessing\\data.py:617: DataConversionWarning: Data with input dtype int64, float64 were all converted to float64 by StandardScaler.\n",
      "  return self.partial_fit(X, y)\n",
      "C:\\Users\\Mason\\Anaconda3\\lib\\site-packages\\ipykernel_launcher.py:10: DataConversionWarning: Data with input dtype int64, float64 were all converted to float64 by StandardScaler.\n",
      "  # Remove the CWD from sys.path while we load stuff.\n"
     ]
    }
   ],
   "source": [
    "test_subset = test[features]\n",
    "# pf2 = PolynomialFeatures(degree = 2,\n",
    "#                         interaction_only=True,\n",
    "#                         include_bias=False)\n",
    "# pf2 = pf2.fit(test_subset)\n",
    "# test_subset_overfit = pf2.transform(test_subset)\n",
    "\n",
    "ss_submit = StandardScaler()\n",
    "ss_submit.fit(test_subset)\n",
    "test_subset_sc = ss_submit.transform(test_subset)"
   ]
  },
  {
   "cell_type": "code",
   "execution_count": 103,
   "metadata": {},
   "outputs": [],
   "source": [
    "preds = lasso.predict(test_subset_sc)\n",
    "to_submit = pd.DataFrame({\n",
    "    'Id': test['Id'],\n",
    "    'SalePrice':preds\n",
    "})"
   ]
  },
  {
   "cell_type": "code",
   "execution_count": 105,
   "metadata": {},
   "outputs": [
    {
     "data": {
      "text/html": [
       "<div>\n",
       "<style scoped>\n",
       "    .dataframe tbody tr th:only-of-type {\n",
       "        vertical-align: middle;\n",
       "    }\n",
       "\n",
       "    .dataframe tbody tr th {\n",
       "        vertical-align: top;\n",
       "    }\n",
       "\n",
       "    .dataframe thead th {\n",
       "        text-align: right;\n",
       "    }\n",
       "</style>\n",
       "<table border=\"1\" class=\"dataframe\">\n",
       "  <thead>\n",
       "    <tr style=\"text-align: right;\">\n",
       "      <th></th>\n",
       "      <th>Id</th>\n",
       "      <th>SalePrice</th>\n",
       "    </tr>\n",
       "  </thead>\n",
       "  <tbody>\n",
       "    <tr>\n",
       "      <th>0</th>\n",
       "      <td>2658</td>\n",
       "      <td>144893.079099</td>\n",
       "    </tr>\n",
       "    <tr>\n",
       "      <th>1</th>\n",
       "      <td>2718</td>\n",
       "      <td>167739.258986</td>\n",
       "    </tr>\n",
       "    <tr>\n",
       "      <th>2</th>\n",
       "      <td>2414</td>\n",
       "      <td>213467.521556</td>\n",
       "    </tr>\n",
       "    <tr>\n",
       "      <th>3</th>\n",
       "      <td>1989</td>\n",
       "      <td>113095.282819</td>\n",
       "    </tr>\n",
       "    <tr>\n",
       "      <th>4</th>\n",
       "      <td>625</td>\n",
       "      <td>181744.179217</td>\n",
       "    </tr>\n",
       "  </tbody>\n",
       "</table>\n",
       "</div>"
      ],
      "text/plain": [
       "     Id      SalePrice\n",
       "0  2658  144893.079099\n",
       "1  2718  167739.258986\n",
       "2  2414  213467.521556\n",
       "3  1989  113095.282819\n",
       "4   625  181744.179217"
      ]
     },
     "execution_count": 105,
     "metadata": {},
     "output_type": "execute_result"
    }
   ],
   "source": [
    "to_submit.head()"
   ]
  },
  {
   "cell_type": "code",
   "execution_count": 106,
   "metadata": {},
   "outputs": [],
   "source": [
    "to_submit.to_csv('./datasets/submissions.csv', index=False)"
   ]
  },
  {
   "cell_type": "code",
   "execution_count": 110,
   "metadata": {},
   "outputs": [
    {
     "data": {
      "image/png": "[encoded data removed]",
      "text/plain": [
       "<Figure size 576x576 with 1 Axes>"
      ]
     },
     "metadata": {
      "needs_background": "light"
     },
     "output_type": "display_data"
    }
   ],
   "source": [
    "#plt.scatter(x=lasso_overfit_preds, y=y_test, c='r')\n",
    "plt.figure(figsize=(8,8))\n",
    "m,b = np.polyfit(x=lasso_preds, y=y_test, deg=1)\n",
    "plt.plot(lasso_preds, y_test, '.')\n",
    "plt.plot(lasso_preds, b + m * lasso_preds, '-', color='k')\n",
    "frame1 = plt.gca()\n",
    "#frame1.axes.get_xaxis().set_ticks([])\n",
    "#frame1.axes.get_yaxis().set_ticks([])\n",
    "plt.xlabel('Predicted Sale Price')\n",
    "plt.ylabel('Actual Sale Price')\n",
    "plt.title('Predicted Sale Price vs Actual Sale Price')\n",
    "plt.savefig('./images/model_preds_vs_act.png')"
   ]
  },
  {
   "cell_type": "code",
   "execution_count": 86,
   "metadata": {},
   "outputs": [],
   "source": [
    "# A bit of exploration\n",
    "coef_dict = {}\n",
    "for coef, feat in zip(lasso.coef_, features):\n",
    "    coef_dict[feat] = coef\n",
    "coef_dict['Fireplaces']"
   ]
  }
 ],
 "metadata": {
  "kernelspec": {
   "display_name": "Python 3",
   "language": "python",
   "name": "python3"
  },
  "language_info": {
   "codemirror_mode": {
    "name": "ipython",
    "version": 3
   },
   "file_extension": ".py",
   "mimetype": "text/x-python",
   "name": "python",
   "nbconvert_exporter": "python",
   "pygments_lexer": "ipython3",
   "version": "3.6.7"
  }
 },
 "nbformat": 4,
 "nbformat_minor": 2
}
